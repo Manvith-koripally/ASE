{
  "nbformat": 4,
  "nbformat_minor": 0,
  "metadata": {
    "colab": {
      "name": "gpt2_model",
      "provenance": [],
      "collapsed_sections": [],
      "toc_visible": true
    },
    "kernelspec": {
      "name": "python3",
      "display_name": "Python 3"
    },
    "accelerator": "GPU"
  },
  "cells": [
    {
      "cell_type": "markdown",
      "metadata": {
        "id": "5JUkbxNrfUn1",
        "colab_type": "text"
      },
      "source": [
        "#**OpenAI GPT-2 Model**"
      ]
    },
    {
      "cell_type": "code",
      "metadata": {
        "id": "CKkRuSq5cnro",
        "colab_type": "code",
        "outputId": "de8b2aa1-d698-4312-9d59-7b00bbbed994",
        "colab": {
          "base_uri": "https://localhost:8080/",
          "height": 118
        }
      },
      "source": [
        "!git clone https://github.com/graykode/gpt-2-Pytorch.git"
      ],
      "execution_count": 0,
      "outputs": [
        {
          "output_type": "stream",
          "text": [
            "Cloning into 'gpt-2-Pytorch'...\n",
            "remote: Enumerating objects: 1, done.\u001b[K\n",
            "remote: Counting objects: 100% (1/1), done.\u001b[K\n",
            "remote: Total 130 (delta 0), reused 0 (delta 0), pack-reused 129\u001b[K\n",
            "Receiving objects: 100% (130/130), 2.39 MiB | 4.38 MiB/s, done.\n",
            "Resolving deltas: 100% (48/48), done.\n"
          ],
          "name": "stdout"
        }
      ]
    },
    {
      "cell_type": "markdown",
      "metadata": {
        "id": "DaW3VJnsfdx2",
        "colab_type": "text"
      },
      "source": [
        "Here we are taking a open source project which will help us to generate next words and sentences from the input paragraph"
      ]
    },
    {
      "cell_type": "code",
      "metadata": {
        "id": "vtbY9lz4cvCr",
        "colab_type": "code",
        "outputId": "8734f267-1894-40e0-cce8-12669736d8b8",
        "colab": {
          "base_uri": "https://localhost:8080/",
          "height": 67
        }
      },
      "source": [
        "!curl --output /content/gpt-2-Pytorch/gpt2-pytorch_model.bin https://s3.amazonaws.com/models.huggingface.co/bert/gpt2-pytorch_model.bin"
      ],
      "execution_count": 0,
      "outputs": [
        {
          "output_type": "stream",
          "text": [
            "  % Total    % Received % Xferd  Average Speed   Time    Time     Time  Current\n",
            "                                 Dload  Upload   Total   Spent    Left  Speed\n",
            "100  522M  100  522M    0     0  32.6M      0  0:00:15  0:00:15 --:--:-- 35.0M\n"
          ],
          "name": "stdout"
        }
      ]
    },
    {
      "cell_type": "code",
      "metadata": {
        "id": "dUWRi43CcxWD",
        "colab_type": "code",
        "outputId": "a450333d-20c2-4830-fbc2-da92b82d4f4c",
        "colab": {
          "base_uri": "https://localhost:8080/",
          "height": 34
        }
      },
      "source": [
        "cd /content/gpt-2-Pytorch"
      ],
      "execution_count": 0,
      "outputs": [
        {
          "output_type": "stream",
          "text": [
            "/content/gpt-2-Pytorch\n"
          ],
          "name": "stdout"
        }
      ]
    },
    {
      "cell_type": "code",
      "metadata": {
        "id": "puDqj_zvdBqa",
        "colab_type": "code",
        "cellView": "both",
        "outputId": "56d57f99-c102-4e37-c930-6b72829df86c",
        "colab": {
          "base_uri": "https://localhost:8080/",
          "height": 121
        }
      },
      "source": [
        "#@title Put your text here { run: \"auto\" }\n",
        "\n",
        "!python main.py --text='It is very important to explore the various types of pollution and all possible ways of their prevention in order to make our planet a safe place for the growth and development of all living things.Burning fuels, nitrogen oxides, sulfur dioxide, carbon monoxide, and chemical vapors are the major pollutants of the air.Everything we use to live a full life comes under the environment.We just can`t live without air, water, land, sunlight, animals, and other natural things.We should reduce water wastage, save energy, use rechargeable batteries, reuse our old things in new ways, and throw wastes properly to its place only.People use the components of the environment to fulfill their basic needs of living.' #@param {type:\"string\"}"
      ],
      "execution_count": 0,
      "outputs": [
        {
          "output_type": "stream",
          "text": [
            "Namespace(batch_size=-1, length=-1, nsamples=1, quiet=False, temperature=0.7, text='It is very important to explore the various types of pollution and all possible ways of their prevention in order to make our planet a safe place for the growth and development of all living things.Burning fuels, nitrogen oxides, sulfur dioxide, carbon monoxide, and chemical vapors are the major pollutants of the air.Everything we use to live a full life comes under the environment.We just can`t live without air, water, land, sunlight, animals, and other natural things.We should reduce water wastage, save energy, use rechargeable batteries, reuse our old things in new ways, and throw wastes properly to its place only.People use the components of the environment to fulfill their basic needs of living.', top_k=40, unconditional=False)\n",
            "It is very important to explore the various types of pollution and all possible ways of their prevention in order to make our planet a safe place for the growth and development of all living things.Burning fuels, nitrogen oxides, sulfur dioxide, carbon monoxide, and chemical vapors are the major pollutants of the air.Everything we use to live a full life comes under the environment.We just can`t live without air, water, land, sunlight, animals, and other natural things.We should reduce water wastage, save energy, use rechargeable batteries, reuse our old things in new ways, and throw wastes properly to its place only.People use the components of the environment to fulfill their basic needs of living.\n",
            "100% 512/512 [00:09<00:00, 55.11it/s]\n",
            "======================================== SAMPLE 1 ========================================\n",
            "We are building and living in a world that is filled with waste and garbage.We are building and living in an environment where people are not happy with the way things are going and in which people are not prepared to live in a world where garbage, waste, and destruction are increasing every day.We should build a world where everyone can live a full life and not have to worry about anything to do with what is around him.If we can`t live a full life, what is our option for a full life?There are many ways of living.There are many ways of living.There are many ways of living.There are many ways of living. There are many ways of living. There are many ways of living. There are many ways of living.The only way to live a full life is to live under conditions that are sustainable.What can we do about our environment? What can we do to get rid of the waste?What can we do to clean up the environment?What can we do to keep our land clean?What can we do to save the environment?What can we do to keep our land clean?How can we keep our land clean?How can we keep our land clean? The only way to keep our land clean is to do everything to avoid waste.The only way to stop waste is through creating clean water and water quality.What can we do to clean up the environment? What can we do to save the environment?What can we do to live in harmony with nature?What can we do to conserve our land and our water?What can we do to keep our land clean?What can we do to clean up the environment?What can we do to live in harmony with nature?What can we do to live in harmony with nature?What can we do to keep our land clean?What can we do to keep our land clean?What can we do to keep our land clean?What can we do to keep our land clean?What can we do to keep our land clean?What can we do to clean up the environment?What can we do to keep our land clean?What can we do to keep our land clean?What can we do to keep our land clean?What can we do to keep our land clean?What can we do to keep our land clean?What can we do to keep our land clean?What can we do to keep our land clean?What can we do to keep our land clean?What can we do to keep our land clean?What can\n"
          ],
          "name": "stdout"
        }
      ]
    },
    {
      "cell_type": "markdown",
      "metadata": {
        "id": "BS1d0tN3CT3e",
        "colab_type": "text"
      },
      "source": [
        "# New Section"
      ]
    },
    {
      "cell_type": "markdown",
      "metadata": {
        "id": "OApalvG8oov0",
        "colab_type": "text"
      },
      "source": [
        "#**Fine Tuning GPT-2**"
      ]
    },
    {
      "cell_type": "code",
      "metadata": {
        "id": "dOSfNgjwdDmf",
        "colab_type": "code",
        "outputId": "a28e02de-176f-481f-ad05-4ccedab6380b",
        "colab": {
          "base_uri": "https://localhost:8080/",
          "height": 356
        }
      },
      "source": [
        "!pip3 install gpt-2-simple"
      ],
      "execution_count": 0,
      "outputs": [
        {
          "output_type": "stream",
          "text": [
            "Collecting gpt-2-simple\n",
            "  Downloading https://files.pythonhosted.org/packages/6f/e4/a90add0c3328eed38a46c3ed137f2363b5d6a07bf13ee5d5d4d1e480b8c3/gpt_2_simple-0.7.1.tar.gz\n",
            "Requirement already satisfied: regex in /usr/local/lib/python3.6/dist-packages (from gpt-2-simple) (2019.12.20)\n",
            "Requirement already satisfied: requests in /usr/local/lib/python3.6/dist-packages (from gpt-2-simple) (2.21.0)\n",
            "Requirement already satisfied: tqdm in /usr/local/lib/python3.6/dist-packages (from gpt-2-simple) (4.28.1)\n",
            "Requirement already satisfied: numpy in /usr/local/lib/python3.6/dist-packages (from gpt-2-simple) (1.17.5)\n",
            "Collecting toposort\n",
            "  Downloading https://files.pythonhosted.org/packages/e9/8a/321cd8ea5f4a22a06e3ba30ef31ec33bea11a3443eeb1d89807640ee6ed4/toposort-1.5-py2.py3-none-any.whl\n",
            "Requirement already satisfied: certifi>=2017.4.17 in /usr/local/lib/python3.6/dist-packages (from requests->gpt-2-simple) (2019.11.28)\n",
            "Requirement already satisfied: urllib3<1.25,>=1.21.1 in /usr/local/lib/python3.6/dist-packages (from requests->gpt-2-simple) (1.24.3)\n",
            "Requirement already satisfied: idna<2.9,>=2.5 in /usr/local/lib/python3.6/dist-packages (from requests->gpt-2-simple) (2.8)\n",
            "Requirement already satisfied: chardet<3.1.0,>=3.0.2 in /usr/local/lib/python3.6/dist-packages (from requests->gpt-2-simple) (3.0.4)\n",
            "Building wheels for collected packages: gpt-2-simple\n",
            "  Building wheel for gpt-2-simple (setup.py) ... \u001b[?25l\u001b[?25hdone\n",
            "  Created wheel for gpt-2-simple: filename=gpt_2_simple-0.7.1-cp36-none-any.whl size=23581 sha256=9a0abfa2adb8aa1c6d0ab296f65a3db3cd605faf6979351bde7f3c2eceffc120\n",
            "  Stored in directory: /root/.cache/pip/wheels/0c/f8/23/b53ce437504597edff76bf9c3b8de08ad716f74f6c6baaa91a\n",
            "Successfully built gpt-2-simple\n",
            "Installing collected packages: toposort, gpt-2-simple\n",
            "Successfully installed gpt-2-simple-0.7.1 toposort-1.5\n"
          ],
          "name": "stdout"
        }
      ]
    },
    {
      "cell_type": "markdown",
      "metadata": {
        "id": "Uwe0Yjtc9eyU",
        "colab_type": "text"
      },
      "source": [
        "Make a machine.txt file with a big paragraph before running the next cell"
      ]
    },
    {
      "cell_type": "code",
      "metadata": {
        "id": "zBMkwPoio4c9",
        "colab_type": "code",
        "outputId": "8123ed08-48c0-4b58-cfd0-933ba9bee25b",
        "colab": {
          "base_uri": "https://localhost:8080/",
          "height": 1000
        }
      },
      "source": [
        "!gpt_2_simple finetune machine.txt"
      ],
      "execution_count": 0,
      "outputs": [
        {
          "output_type": "stream",
          "text": [
            "/usr/local/lib/python3.6/dist-packages/IPython/utils/traitlets.py:5: UserWarning: IPython.utils.traitlets has moved to a top-level traitlets package.\n",
            "  warn(\"IPython.utils.traitlets has moved to a top-level traitlets package.\")\n",
            "WARNING:tensorflow:\n",
            "The TensorFlow contrib module will not be included in TensorFlow 2.0.\n",
            "For more information, please see:\n",
            "  * https://github.com/tensorflow/community/blob/master/rfcs/20180907-contrib-sunset.md\n",
            "  * https://github.com/tensorflow/addons\n",
            "  * https://github.com/tensorflow/io (for I/O related ops)\n",
            "If you depend on functionality not listed there, please file an issue.\n",
            "\n",
            "Fetching checkpoint: 1.05Mit [00:00, 769Mit/s]                                                      \n",
            "Fetching encoder.json: 1.05Mit [00:00, 122Mit/s]                                                    \n",
            "Fetching hparams.json: 1.05Mit [00:00, 1.25Git/s]                                                   \n",
            "Fetching model.ckpt.data-00000-of-00001: 498Mit [00:02, 230Mit/s]                                   \n",
            "Fetching model.ckpt.index: 1.05Mit [00:00, 896Mit/s]                                                \n",
            "Fetching model.ckpt.meta: 1.05Mit [00:00, 281Mit/s]                                                 \n",
            "Fetching vocab.bpe: 1.05Mit [00:00, 203Mit/s]                                                       \n",
            "2020-02-07 06:25:24.842038: I tensorflow/core/platform/cpu_feature_guard.cc:142] Your CPU supports instructions that this TensorFlow binary was not compiled to use: AVX512F\n",
            "2020-02-07 06:25:24.858117: I tensorflow/core/platform/profile_utils/cpu_utils.cc:94] CPU Frequency: 2000175000 Hz\n",
            "2020-02-07 06:25:24.859953: I tensorflow/compiler/xla/service/service.cc:168] XLA service 0x12f9100 initialized for platform Host (this does not guarantee that XLA will be used). Devices:\n",
            "2020-02-07 06:25:24.859994: I tensorflow/compiler/xla/service/service.cc:176]   StreamExecutor device (0): Host, Default Version\n",
            "2020-02-07 06:25:24.864915: I tensorflow/stream_executor/platform/default/dso_loader.cc:44] Successfully opened dynamic library libcuda.so.1\n",
            "2020-02-07 06:25:25.038418: I tensorflow/stream_executor/cuda/cuda_gpu_executor.cc:983] successful NUMA node read from SysFS had negative value (-1), but there must be at least one NUMA node, so returning NUMA node zero\n",
            "2020-02-07 06:25:25.039212: I tensorflow/compiler/xla/service/service.cc:168] XLA service 0x12f92c0 initialized for platform CUDA (this does not guarantee that XLA will be used). Devices:\n",
            "2020-02-07 06:25:25.039243: I tensorflow/compiler/xla/service/service.cc:176]   StreamExecutor device (0): Tesla T4, Compute Capability 7.5\n",
            "2020-02-07 06:25:25.039472: I tensorflow/stream_executor/cuda/cuda_gpu_executor.cc:983] successful NUMA node read from SysFS had negative value (-1), but there must be at least one NUMA node, so returning NUMA node zero\n",
            "2020-02-07 06:25:25.040060: I tensorflow/core/common_runtime/gpu/gpu_device.cc:1618] Found device 0 with properties: \n",
            "name: Tesla T4 major: 7 minor: 5 memoryClockRate(GHz): 1.59\n",
            "pciBusID: 0000:00:04.0\n",
            "2020-02-07 06:25:25.055859: I tensorflow/stream_executor/platform/default/dso_loader.cc:44] Successfully opened dynamic library libcudart.so.10.1\n",
            "2020-02-07 06:25:25.307909: I tensorflow/stream_executor/platform/default/dso_loader.cc:44] Successfully opened dynamic library libcublas.so.10\n",
            "2020-02-07 06:25:25.430254: I tensorflow/stream_executor/platform/default/dso_loader.cc:44] Successfully opened dynamic library libcufft.so.10\n",
            "2020-02-07 06:25:25.454932: I tensorflow/stream_executor/platform/default/dso_loader.cc:44] Successfully opened dynamic library libcurand.so.10\n",
            "2020-02-07 06:25:25.717847: I tensorflow/stream_executor/platform/default/dso_loader.cc:44] Successfully opened dynamic library libcusolver.so.10\n",
            "2020-02-07 06:25:25.752586: I tensorflow/stream_executor/platform/default/dso_loader.cc:44] Successfully opened dynamic library libcusparse.so.10\n",
            "2020-02-07 06:25:26.248877: I tensorflow/stream_executor/platform/default/dso_loader.cc:44] Successfully opened dynamic library libcudnn.so.7\n",
            "2020-02-07 06:25:26.249109: I tensorflow/stream_executor/cuda/cuda_gpu_executor.cc:983] successful NUMA node read from SysFS had negative value (-1), but there must be at least one NUMA node, so returning NUMA node zero\n",
            "2020-02-07 06:25:26.249901: I tensorflow/stream_executor/cuda/cuda_gpu_executor.cc:983] successful NUMA node read from SysFS had negative value (-1), but there must be at least one NUMA node, so returning NUMA node zero\n",
            "2020-02-07 06:25:26.250477: I tensorflow/core/common_runtime/gpu/gpu_device.cc:1746] Adding visible gpu devices: 0\n",
            "2020-02-07 06:25:26.253716: I tensorflow/stream_executor/platform/default/dso_loader.cc:44] Successfully opened dynamic library libcudart.so.10.1\n",
            "2020-02-07 06:25:26.255165: I tensorflow/core/common_runtime/gpu/gpu_device.cc:1159] Device interconnect StreamExecutor with strength 1 edge matrix:\n",
            "2020-02-07 06:25:26.255201: I tensorflow/core/common_runtime/gpu/gpu_device.cc:1165]      0 \n",
            "2020-02-07 06:25:26.255216: I tensorflow/core/common_runtime/gpu/gpu_device.cc:1178] 0:   N \n",
            "2020-02-07 06:25:26.256329: I tensorflow/stream_executor/cuda/cuda_gpu_executor.cc:983] successful NUMA node read from SysFS had negative value (-1), but there must be at least one NUMA node, so returning NUMA node zero\n",
            "2020-02-07 06:25:26.257750: I tensorflow/stream_executor/cuda/cuda_gpu_executor.cc:983] successful NUMA node read from SysFS had negative value (-1), but there must be at least one NUMA node, so returning NUMA node zero\n",
            "2020-02-07 06:25:26.258417: I tensorflow/core/common_runtime/gpu/gpu_device.cc:1304] Created TensorFlow device (/job:localhost/replica:0/task:0/device:GPU:0 with 14221 MB memory) -> physical GPU (device: 0, name: Tesla T4, pci bus id: 0000:00:04.0, compute capability: 7.5)\n",
            "2020-02-07 06:25:26.335941: I tensorflow/stream_executor/cuda/cuda_gpu_executor.cc:983] successful NUMA node read from SysFS had negative value (-1), but there must be at least one NUMA node, so returning NUMA node zero\n",
            "2020-02-07 06:25:26.336565: I tensorflow/core/common_runtime/gpu/gpu_device.cc:1618] Found device 0 with properties: \n",
            "name: Tesla T4 major: 7 minor: 5 memoryClockRate(GHz): 1.59\n",
            "pciBusID: 0000:00:04.0\n",
            "2020-02-07 06:25:26.336681: I tensorflow/stream_executor/platform/default/dso_loader.cc:44] Successfully opened dynamic library libcudart.so.10.1\n",
            "2020-02-07 06:25:26.336712: I tensorflow/stream_executor/platform/default/dso_loader.cc:44] Successfully opened dynamic library libcublas.so.10\n",
            "2020-02-07 06:25:26.336737: I tensorflow/stream_executor/platform/default/dso_loader.cc:44] Successfully opened dynamic library libcufft.so.10\n",
            "2020-02-07 06:25:26.336763: I tensorflow/stream_executor/platform/default/dso_loader.cc:44] Successfully opened dynamic library libcurand.so.10\n",
            "2020-02-07 06:25:26.336793: I tensorflow/stream_executor/platform/default/dso_loader.cc:44] Successfully opened dynamic library libcusolver.so.10\n",
            "2020-02-07 06:25:26.336816: I tensorflow/stream_executor/platform/default/dso_loader.cc:44] Successfully opened dynamic library libcusparse.so.10\n",
            "2020-02-07 06:25:26.336840: I tensorflow/stream_executor/platform/default/dso_loader.cc:44] Successfully opened dynamic library libcudnn.so.7\n",
            "2020-02-07 06:25:26.336936: I tensorflow/stream_executor/cuda/cuda_gpu_executor.cc:983] successful NUMA node read from SysFS had negative value (-1), but there must be at least one NUMA node, so returning NUMA node zero\n",
            "2020-02-07 06:25:26.337496: I tensorflow/stream_executor/cuda/cuda_gpu_executor.cc:983] successful NUMA node read from SysFS had negative value (-1), but there must be at least one NUMA node, so returning NUMA node zero\n",
            "2020-02-07 06:25:26.338008: I tensorflow/core/common_runtime/gpu/gpu_device.cc:1746] Adding visible gpu devices: 0\n",
            "2020-02-07 06:25:26.338046: I tensorflow/core/common_runtime/gpu/gpu_device.cc:1159] Device interconnect StreamExecutor with strength 1 edge matrix:\n",
            "2020-02-07 06:25:26.338062: I tensorflow/core/common_runtime/gpu/gpu_device.cc:1165]      0 \n",
            "2020-02-07 06:25:26.338071: I tensorflow/core/common_runtime/gpu/gpu_device.cc:1178] 0:   N \n",
            "2020-02-07 06:25:26.338167: I tensorflow/stream_executor/cuda/cuda_gpu_executor.cc:983] successful NUMA node read from SysFS had negative value (-1), but there must be at least one NUMA node, so returning NUMA node zero\n",
            "2020-02-07 06:25:26.338739: I tensorflow/stream_executor/cuda/cuda_gpu_executor.cc:983] successful NUMA node read from SysFS had negative value (-1), but there must be at least one NUMA node, so returning NUMA node zero\n",
            "2020-02-07 06:25:26.339299: I tensorflow/core/common_runtime/gpu/gpu_device.cc:1304] Created TensorFlow device (/device:GPU:0 with 14221 MB memory) -> physical GPU (device: 0, name: Tesla T4, pci bus id: 0000:00:04.0, compute capability: 7.5)\n",
            "WARNING:tensorflow:From /usr/local/lib/python3.6/dist-packages/gpt_2_simple/src/sample.py:17: where (from tensorflow.python.ops.array_ops) is deprecated and will be removed in a future version.\n",
            "Instructions for updating:\n",
            "Use tf.where in 2.0, which has the same broadcast rule as np.where\n",
            "Loading checkpoint models/124M/model.ckpt\n",
            "Loading dataset...\n",
            "0it [00:00, ?it/s]\n",
            "dataset has 0 tokens\n",
            "Training...\n",
            "Traceback (most recent call last):\n",
            "  File \"/usr/local/bin/gpt_2_simple\", line 8, in <module>\n",
            "    sys.exit(cmd())\n",
            "  File \"/usr/local/lib/python3.6/dist-packages/gpt_2_simple/gpt_2.py\", line 768, in cmd\n",
            "    multi_gpu=args.multi_gpu)\n",
            "  File \"/usr/local/lib/python3.6/dist-packages/gpt_2_simple/gpt_2.py\", line 798, in cmd_finetune\n",
            "    multi_gpu=multi_gpu)\n",
            "  File \"/usr/local/lib/python3.6/dist-packages/gpt_2_simple/gpt_2.py\", line 337, in finetune\n",
            "    opt_compute, feed_dict={context: sample_batch()})\n",
            "  File \"/usr/local/lib/python3.6/dist-packages/gpt_2_simple/gpt_2.py\", line 309, in sample_batch\n",
            "    return [data_sampler.sample(1024) for _ in range(batch_size)]\n",
            "  File \"/usr/local/lib/python3.6/dist-packages/gpt_2_simple/gpt_2.py\", line 309, in <listcomp>\n",
            "    return [data_sampler.sample(1024) for _ in range(batch_size)]\n",
            "  File \"/usr/local/lib/python3.6/dist-packages/gpt_2_simple/src/load_dataset.py\", line 83, in sample\n",
            "    self.chunks\n",
            "ZeroDivisionError: integer division or modulo by zero\n"
          ],
          "name": "stdout"
        }
      ]
    },
    {
      "cell_type": "markdown",
      "metadata": {
        "id": "NwytsF8kvpc1",
        "colab_type": "text"
      },
      "source": [
        "## Generating Text"
      ]
    },
    {
      "cell_type": "markdown",
      "metadata": {
        "id": "yYM-Jub_CXlF",
        "colab_type": "text"
      },
      "source": [
        "# New Section"
      ]
    },
    {
      "cell_type": "code",
      "metadata": {
        "id": "N2NC0BHxqEqa",
        "colab_type": "code",
        "outputId": "a15ee2c4-6d8e-4983-fb4f-55707ebf8619",
        "colab": {
          "base_uri": "https://localhost:8080/",
          "height": 1000
        }
      },
      "source": [
        "!gpt_2_simple generate"
      ],
      "execution_count": 0,
      "outputs": [
        {
          "output_type": "stream",
          "text": [
            "/usr/local/lib/python3.6/dist-packages/IPython/utils/traitlets.py:5: UserWarning: IPython.utils.traitlets has moved to a top-level traitlets package.\n",
            "  warn(\"IPython.utils.traitlets has moved to a top-level traitlets package.\")\n",
            "WARNING:tensorflow:\n",
            "The TensorFlow contrib module will not be included in TensorFlow 2.0.\n",
            "For more information, please see:\n",
            "  * https://github.com/tensorflow/community/blob/master/rfcs/20180907-contrib-sunset.md\n",
            "  * https://github.com/tensorflow/addons\n",
            "  * https://github.com/tensorflow/io (for I/O related ops)\n",
            "If you depend on functionality not listed there, please file an issue.\n",
            "\n",
            "2020-02-06 09:20:14.206399: I tensorflow/core/platform/profile_utils/cpu_utils.cc:94] CPU Frequency: 2300000000 Hz\n",
            "2020-02-06 09:20:14.206637: I tensorflow/compiler/xla/service/service.cc:168] XLA service 0x2045100 initialized for platform Host (this does not guarantee that XLA will be used). Devices:\n",
            "2020-02-06 09:20:14.206691: I tensorflow/compiler/xla/service/service.cc:176]   StreamExecutor device (0): Host, Default Version\n",
            "2020-02-06 09:20:14.208760: I tensorflow/stream_executor/platform/default/dso_loader.cc:44] Successfully opened dynamic library libcuda.so.1\n",
            "2020-02-06 09:20:14.321972: I tensorflow/stream_executor/cuda/cuda_gpu_executor.cc:983] successful NUMA node read from SysFS had negative value (-1), but there must be at least one NUMA node, so returning NUMA node zero\n",
            "2020-02-06 09:20:14.322835: I tensorflow/compiler/xla/service/service.cc:168] XLA service 0x20452c0 initialized for platform CUDA (this does not guarantee that XLA will be used). Devices:\n",
            "2020-02-06 09:20:14.322867: I tensorflow/compiler/xla/service/service.cc:176]   StreamExecutor device (0): Tesla P100-PCIE-16GB, Compute Capability 6.0\n",
            "2020-02-06 09:20:14.323108: I tensorflow/stream_executor/cuda/cuda_gpu_executor.cc:983] successful NUMA node read from SysFS had negative value (-1), but there must be at least one NUMA node, so returning NUMA node zero\n",
            "2020-02-06 09:20:14.323833: I tensorflow/core/common_runtime/gpu/gpu_device.cc:1618] Found device 0 with properties: \n",
            "name: Tesla P100-PCIE-16GB major: 6 minor: 0 memoryClockRate(GHz): 1.3285\n",
            "pciBusID: 0000:00:04.0\n",
            "2020-02-06 09:20:14.324158: I tensorflow/stream_executor/platform/default/dso_loader.cc:44] Successfully opened dynamic library libcudart.so.10.1\n",
            "2020-02-06 09:20:14.326061: I tensorflow/stream_executor/platform/default/dso_loader.cc:44] Successfully opened dynamic library libcublas.so.10\n",
            "2020-02-06 09:20:14.327630: I tensorflow/stream_executor/platform/default/dso_loader.cc:44] Successfully opened dynamic library libcufft.so.10\n",
            "2020-02-06 09:20:14.327983: I tensorflow/stream_executor/platform/default/dso_loader.cc:44] Successfully opened dynamic library libcurand.so.10\n",
            "2020-02-06 09:20:14.329931: I tensorflow/stream_executor/platform/default/dso_loader.cc:44] Successfully opened dynamic library libcusolver.so.10\n",
            "2020-02-06 09:20:14.330876: I tensorflow/stream_executor/platform/default/dso_loader.cc:44] Successfully opened dynamic library libcusparse.so.10\n",
            "2020-02-06 09:20:14.334787: I tensorflow/stream_executor/platform/default/dso_loader.cc:44] Successfully opened dynamic library libcudnn.so.7\n",
            "2020-02-06 09:20:14.334914: I tensorflow/stream_executor/cuda/cuda_gpu_executor.cc:983] successful NUMA node read from SysFS had negative value (-1), but there must be at least one NUMA node, so returning NUMA node zero\n",
            "2020-02-06 09:20:14.335764: I tensorflow/stream_executor/cuda/cuda_gpu_executor.cc:983] successful NUMA node read from SysFS had negative value (-1), but there must be at least one NUMA node, so returning NUMA node zero\n",
            "2020-02-06 09:20:14.336624: I tensorflow/core/common_runtime/gpu/gpu_device.cc:1746] Adding visible gpu devices: 0\n",
            "2020-02-06 09:20:14.336773: I tensorflow/stream_executor/platform/default/dso_loader.cc:44] Successfully opened dynamic library libcudart.so.10.1\n",
            "2020-02-06 09:20:14.338337: I tensorflow/core/common_runtime/gpu/gpu_device.cc:1159] Device interconnect StreamExecutor with strength 1 edge matrix:\n",
            "2020-02-06 09:20:14.338367: I tensorflow/core/common_runtime/gpu/gpu_device.cc:1165]      0 \n",
            "2020-02-06 09:20:14.338382: I tensorflow/core/common_runtime/gpu/gpu_device.cc:1178] 0:   N \n",
            "2020-02-06 09:20:14.338618: I tensorflow/stream_executor/cuda/cuda_gpu_executor.cc:983] successful NUMA node read from SysFS had negative value (-1), but there must be at least one NUMA node, so returning NUMA node zero\n",
            "2020-02-06 09:20:14.339577: I tensorflow/stream_executor/cuda/cuda_gpu_executor.cc:983] successful NUMA node read from SysFS had negative value (-1), but there must be at least one NUMA node, so returning NUMA node zero\n",
            "2020-02-06 09:20:14.340705: I tensorflow/core/common_runtime/gpu/gpu_device.cc:1304] Created TensorFlow device (/job:localhost/replica:0/task:0/device:GPU:0 with 15216 MB memory) -> physical GPU (device: 0, name: Tesla P100-PCIE-16GB, pci bus id: 0000:00:04.0, compute capability: 6.0)\n",
            "2020-02-06 09:20:14.343293: I tensorflow/stream_executor/cuda/cuda_gpu_executor.cc:983] successful NUMA node read from SysFS had negative value (-1), but there must be at least one NUMA node, so returning NUMA node zero\n",
            "2020-02-06 09:20:14.344054: I tensorflow/core/common_runtime/gpu/gpu_device.cc:1618] Found device 0 with properties: \n",
            "name: Tesla P100-PCIE-16GB major: 6 minor: 0 memoryClockRate(GHz): 1.3285\n",
            "pciBusID: 0000:00:04.0\n",
            "2020-02-06 09:20:14.344110: I tensorflow/stream_executor/platform/default/dso_loader.cc:44] Successfully opened dynamic library libcudart.so.10.1\n",
            "2020-02-06 09:20:14.344167: I tensorflow/stream_executor/platform/default/dso_loader.cc:44] Successfully opened dynamic library libcublas.so.10\n",
            "2020-02-06 09:20:14.344239: I tensorflow/stream_executor/platform/default/dso_loader.cc:44] Successfully opened dynamic library libcufft.so.10\n",
            "2020-02-06 09:20:14.344282: I tensorflow/stream_executor/platform/default/dso_loader.cc:44] Successfully opened dynamic library libcurand.so.10\n",
            "2020-02-06 09:20:14.344336: I tensorflow/stream_executor/platform/default/dso_loader.cc:44] Successfully opened dynamic library libcusolver.so.10\n",
            "2020-02-06 09:20:14.344389: I tensorflow/stream_executor/platform/default/dso_loader.cc:44] Successfully opened dynamic library libcusparse.so.10\n",
            "2020-02-06 09:20:14.344425: I tensorflow/stream_executor/platform/default/dso_loader.cc:44] Successfully opened dynamic library libcudnn.so.7\n",
            "2020-02-06 09:20:14.344558: I tensorflow/stream_executor/cuda/cuda_gpu_executor.cc:983] successful NUMA node read from SysFS had negative value (-1), but there must be at least one NUMA node, so returning NUMA node zero\n",
            "2020-02-06 09:20:14.345374: I tensorflow/stream_executor/cuda/cuda_gpu_executor.cc:983] successful NUMA node read from SysFS had negative value (-1), but there must be at least one NUMA node, so returning NUMA node zero\n",
            "2020-02-06 09:20:14.346301: I tensorflow/core/common_runtime/gpu/gpu_device.cc:1746] Adding visible gpu devices: 0\n",
            "2020-02-06 09:20:14.346334: I tensorflow/core/common_runtime/gpu/gpu_device.cc:1159] Device interconnect StreamExecutor with strength 1 edge matrix:\n",
            "2020-02-06 09:20:14.346356: I tensorflow/core/common_runtime/gpu/gpu_device.cc:1165]      0 \n",
            "2020-02-06 09:20:14.346373: I tensorflow/core/common_runtime/gpu/gpu_device.cc:1178] 0:   N \n",
            "2020-02-06 09:20:14.346493: I tensorflow/stream_executor/cuda/cuda_gpu_executor.cc:983] successful NUMA node read from SysFS had negative value (-1), but there must be at least one NUMA node, so returning NUMA node zero\n",
            "2020-02-06 09:20:14.347449: I tensorflow/stream_executor/cuda/cuda_gpu_executor.cc:983] successful NUMA node read from SysFS had negative value (-1), but there must be at least one NUMA node, so returning NUMA node zero\n",
            "2020-02-06 09:20:14.348323: I tensorflow/core/common_runtime/gpu/gpu_device.cc:1304] Created TensorFlow device (/device:GPU:0 with 15216 MB memory) -> physical GPU (device: 0, name: Tesla P100-PCIE-16GB, pci bus id: 0000:00:04.0, compute capability: 6.0)\n",
            "Loading checkpoint checkpoint/run1/model-214\n",
            "  0% 0/1 [00:00<?, ?it/s]2020-02-06 09:20:22.377621: I tensorflow/stream_executor/platform/default/dso_loader.cc:44] Successfully opened dynamic library libcublas.so.10\n",
            "100% 1/1 [00:14<00:00, 14.51s/it]\n"
          ],
          "name": "stdout"
        }
      ]
    },
    {
      "cell_type": "code",
      "metadata": {
        "id": "L19c-Kams2Oy",
        "colab_type": "code",
        "colab": {}
      },
      "source": [
        ""
      ],
      "execution_count": 0,
      "outputs": []
    }
  ]
}